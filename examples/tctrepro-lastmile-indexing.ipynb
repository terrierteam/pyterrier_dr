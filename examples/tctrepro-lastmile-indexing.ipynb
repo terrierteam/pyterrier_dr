{
 "cells": [
  {
   "cell_type": "markdown",
   "id": "aae53a1d",
   "metadata": {},
   "source": [
    "# Last-Mile TCT Replication: Indexing\n",
    "\n",
    "This notebook shows how to generate indices for released TCT-ColBERT models.\n",
    "\n",
    "Note that indexing can take a while and is best done using a GPU. A progress bar shows the ETA."
   ]
  },
  {
   "cell_type": "markdown",
   "id": "d2da8051",
   "metadata": {},
   "source": [
    "## Building Indices\n",
    "\n",
    "Use the following code to build dense indices for MS MARCO (passage)"
   ]
  },
  {
   "cell_type": "code",
   "execution_count": null,
   "id": "95019577",
   "metadata": {},
   "outputs": [],
   "source": [
    "# Import packages\n",
    "import pyterrier as pt\n",
    "if not pt.started():\n",
    "    pt.init()\n",
    "from pyterrier_dr import NumpyIndex, TctColBert\n",
    "\n",
    "# We'll use the msmarco-passage corpus\n",
    "dataset = pt.get_dataset('irds:msmarco-passage')"
   ]
  },
  {
   "cell_type": "code",
   "execution_count": null,
   "id": "3b9049af",
   "metadata": {},
   "outputs": [],
   "source": [
    "# Index castorini/tct_colbert-v2-msmarco\n",
    "index_pipeline = (\n",
    "    TctColBert('castorini/tct_colbert-v2-msmarco') >>\n",
    "    NumpyIndex('indices/castorini__tct_colbert-v2-msmarco.np'))\n",
    "index_pipeline.index(dataset.get_corpus_iter())"
   ]
  },
  {
   "cell_type": "code",
   "execution_count": null,
   "id": "128c409e",
   "metadata": {},
   "outputs": [],
   "source": [
    "# Index castorini/tct_colbert-v2-hn-msmarco\n",
    "index_pipeline = (\n",
    "    TctColBert('castorini/tct_colbert-v2-hn-msmarco') >>\n",
    "    NumpyIndex('indices/castorini__tct_colbert-v2-hn-msmarco.np'))\n",
    "index_pipeline.index(dataset.get_corpus_iter())"
   ]
  },
  {
   "cell_type": "code",
   "execution_count": null,
   "id": "431270ca",
   "metadata": {},
   "outputs": [],
   "source": [
    "# Index castorini/tct_colbert-v2-hnp-msmarco\n",
    "index_pipeline = (\n",
    "    TctColBert('castorini/tct_colbert-v2-hnp-msmarco') >>\n",
    "    NumpyIndex('indices/castorini__tct_colbert-v2-hnp-msmarco.np'))\n",
    "index_pipeline.index(dataset.get_corpus_iter())"
   ]
  },
  {
   "cell_type": "markdown",
   "id": "2707c6de",
   "metadata": {},
   "source": [
    "## Download pre-built indices\n",
    "\n",
    "If you instead prefer to use pre-built indices, you can use the following code to download and extract them from Google Drive"
   ]
  },
  {
   "cell_type": "code",
   "execution_count": null,
   "id": "000f5a0c",
   "metadata": {},
   "outputs": [],
   "source": [
    "!pip install gdown\n",
    "!gdown 11jjKGIRBOq5-w_tAgmOomzXgQEiB04fy -O castorini__tct_colbert-v2-msmarco.np.tar\n",
    "!tar -xvf castorini__tct_colbert-v2-msmarco.np.tar\n",
    "!gdown 1jJcnK5IJRDQgkMXVHt4fSnrHbFdopRQh -O castorini__tct_colbert-v2-hn-msmarco.np.tar\n",
    "!tar -xvf castorini__tct_colbert-v2-hn-msmarco.np.tar\n",
    "!gdown 1xPcwHF2ZZvmjRLoTkVMXhJraYKY4UrQ0 -O castorini__tct_colbert-v2-hnp-msmarco.np.tar\n",
    "!tar -xvf castorini__tct_colbert-v2-hnp-msmarco.np.tar"
   ]
  },
  {
   "cell_type": "code",
   "execution_count": null,
   "id": "c2a42c37",
   "metadata": {},
   "outputs": [],
   "source": []
  }
 ],
 "metadata": {
  "kernelspec": {
   "display_name": "Python 3 (ipykernel)",
   "language": "python",
   "name": "python3"
  },
  "language_info": {
   "codemirror_mode": {
    "name": "ipython",
    "version": 3
   },
   "file_extension": ".py",
   "mimetype": "text/x-python",
   "name": "python",
   "nbconvert_exporter": "python",
   "pygments_lexer": "ipython3",
   "version": "3.8.12"
  }
 },
 "nbformat": 4,
 "nbformat_minor": 5
}
